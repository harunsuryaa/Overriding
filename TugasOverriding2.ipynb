{
  "nbformat": 4,
  "nbformat_minor": 0,
  "metadata": {
    "colab": {
      "provenance": [],
      "include_colab_link": true
    },
    "kernelspec": {
      "name": "python3",
      "display_name": "Python 3"
    },
    "language_info": {
      "name": "python"
    }
  },
  "cells": [
    {
      "cell_type": "markdown",
      "metadata": {
        "id": "view-in-github",
        "colab_type": "text"
      },
      "source": [
        "<a href=\"https://colab.research.google.com/github/harunsuryaa/Overriding/blob/main/TugasOverriding2.ipynb\" target=\"_parent\"><img src=\"https://colab.research.google.com/assets/colab-badge.svg\" alt=\"Open In Colab\"/></a>"
      ]
    },
    {
      "cell_type": "markdown",
      "source": [
        "Anda bekerja sebagai programmer di sebuah supermarket besar. Manajemen supermarket ingin Anda mengembangkan program Python untuk mengelola berbagai jenis produk yang mereka jual di toko mereka. Mereka memiliki kelas dasar **Produk** dengan atribut berikut:\n",
        "\n",
        "*   kode_barang (kode unik produk)\n",
        "*   nama (nama produk)\n",
        "*   harga (harga produk)\n",
        "\n",
        "Selain itu, mereka memiliki dua jenis produk spesifik: **ProdukMakanan** dan **ProdukElektronik**. Produk makanan memiliki atribut tambahan:\n",
        "\n",
        "*   tanggal_kadaluarsa (tanggal kadaluarsa makanan)\n",
        "\n",
        "Sementara Produk elektronik memiliki atribut tambahan:\n",
        "\n",
        "*   garansi (lama garansi dalam bulan)\n",
        "\n",
        "Manajemen supermarket ingin Anda membuat program Python yang memungkinkan mereka untuk mencetak informasi tentang setiap produk, termasuk kode barang, nama, harga, serta atribut tambahan yang sesuai (tanggal kadaluarsa atau lama garansi).\n",
        "\n",
        "Tugas Anda adalah:\n",
        "\n",
        "\n",
        "1.   Membuat kelas Produk dengan atribut kode_barang, nama, dan harga, serta metode deskripsi yang mencetak informasi tentang produk tersebut.\n",
        "2.   Membuat kelas ProdukMakanan yang mewarisi dari kelas Produk dan memiliki atribut tambahan tanggal_kadaluarsa, serta mengimplementasikan metode deskripsi untuk mencetak informasi tentang produk makanan.\n",
        "1.   Membuat kelas ProdukElektronik yang juga mewarisi dari kelas Produk dan memiliki atribut tambahan garansi, serta mengimplementasikan metode deskripsi untuk mencetak informasi tentang produk elektronik.\n",
        "\n",
        "Program Anda harus mendemonstrasikan penggunaan konsep **overriding** dalam Python dalam konteks produk di supermarket.\n",
        "\n",
        "Selamat mengerjakan!\n",
        "\n",
        "\n",
        "\n",
        "\n",
        "\n"
      ],
      "metadata": {
        "id": "Yo0ulCyP2WPG"
      }
    },
    {
      "cell_type": "code",
      "execution_count": 1,
      "metadata": {
        "id": "tG1-g1OW2KSu"
      },
      "outputs": [],
      "source": [
        "class Produk:\n",
        "  def __init__(self, kode_barang, nama, harga):\n",
        "    self.kode_barang=kode_barang\n",
        "    self.nama=nama\n",
        "    self.harga=harga\n",
        "\n",
        "  def deskripsi(self):\n",
        "    print(f\"kode : {self.kode_barang}\")\n",
        "    print(f\"nama : {self.nama}\")\n",
        "    print(f\"harga: {self.harga}\")\n",
        ""
      ]
    },
    {
      "cell_type": "code",
      "source": [
        "class ProdukMakanan(Produk):\n",
        "  def __init__(self, kode_barang, nama, harga, tanggal_kadaluarsa):\n",
        "    super().__init__(kode_barang, nama, harga)\n",
        "    self.tanggal_kadaluarsa=tanggal_kadaluarsa\n",
        "\n",
        "  def deskripsi(self):\n",
        "    super().deskripsi()\n",
        "    print(\"kadaluarsa sampai:\", self.tanggal_kadaluarsa)\n",
        ""
      ],
      "metadata": {
        "id": "oy32Lm4m39l0"
      },
      "execution_count": 2,
      "outputs": []
    },
    {
      "cell_type": "code",
      "source": [
        "class ProdukElektronik(Produk):\n",
        "  def __init__(self, kode_barang, nama, harga, garansi):\n",
        "    super().__init__(kode_barang, nama, harga)\n",
        "    self.garansi=garansi\n",
        "\n",
        "  def deskripsi(self):\n",
        "    super().deskripsi()\n",
        "    print(\"garansi sampai:\", self.garansi)\n",
        ""
      ],
      "metadata": {
        "id": "wEgEGwxm4A1y"
      },
      "execution_count": 3,
      "outputs": []
    },
    {
      "cell_type": "code",
      "source": [
        "barang1 = ProdukMakanan(936483, \"chitato\", 7000, \"5 maret 2024\")\n",
        "barang2 = ProdukMakanan(628393, \"nabati\", 2000, \"3 januari 2024\")\n",
        "\n",
        "elektronik1 = ProdukElektronik(937849, \"iphone12\", 11000000, \"3 tahun\")\n",
        "elektronik2 = ProdukElektronik(738362, \"asus\", 9000000, \"3 tahun\")\n",
        "\n",
        "print(\"Deskripsi Produk Makanan:\")\n",
        "barang1.deskripsi()\n",
        "print(\"\")\n",
        "print(\"Deskripsi Produk Makanan:\")\n",
        "barang2.deskripsi()\n",
        "print(\"\")\n",
        "print(\"Deskripsi Produk Elektronik:\")\n",
        "elektronik1.deskripsi()\n",
        "print(\"\")\n",
        "print(\"Deskripsi Produk Elektronik:\")\n",
        "elektronik2.deskripsi()"
      ],
      "metadata": {
        "id": "noeSP_dw4F4c",
        "outputId": "92079d5f-7215-4d00-f863-a9017af70dd9",
        "colab": {
          "base_uri": "https://localhost:8080/"
        }
      },
      "execution_count": 4,
      "outputs": [
        {
          "output_type": "stream",
          "name": "stdout",
          "text": [
            "Deskripsi Produk Makanan:\n",
            "kode : 936483\n",
            "nama : chitato\n",
            "harga: 7000\n",
            "kadaluarsa sampai: 5 maret 2024\n",
            "\n",
            "Deskripsi Produk Makanan:\n",
            "kode : 628393\n",
            "nama : nabati\n",
            "harga: 2000\n",
            "kadaluarsa sampai: 3 januari 2024\n",
            "\n",
            "Deskripsi Produk Elektronik:\n",
            "kode : 937849\n",
            "nama : iphone12\n",
            "harga: 11000000\n",
            "garansi sampai: 3 tahun\n",
            "\n",
            "Deskripsi Produk Elektronik:\n",
            "kode : 738362\n",
            "nama : asus\n",
            "harga: 9000000\n",
            "garansi sampai: 3 tahun\n"
          ]
        }
      ]
    }
  ]
}