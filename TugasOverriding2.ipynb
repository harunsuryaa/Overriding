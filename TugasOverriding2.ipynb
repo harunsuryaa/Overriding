{
  "nbformat": 4,
  "nbformat_minor": 0,
  "metadata": {
    "colab": {
      "provenance": [],
      "authorship_tag": "ABX9TyPirg15hkYI0zNxxJezIYWk",
      "include_colab_link": true
    },
    "kernelspec": {
      "name": "python3",
      "display_name": "Python 3"
    },
    "language_info": {
      "name": "python"
    }
  },
  "cells": [
    {
      "cell_type": "markdown",
      "metadata": {
        "id": "view-in-github",
        "colab_type": "text"
      },
      "source": [
        "<a href=\"https://colab.research.google.com/github/harunsuryaa/Overriding/blob/main/overriding2.ipynb\" target=\"_parent\"><img src=\"https://colab.research.google.com/assets/colab-badge.svg\" alt=\"Open In Colab\"/></a>"
      ]
    },
    {
      "cell_type": "code",
      "execution_count": null,
      "metadata": {
        "id": "YtbuS1NnI_7h"
      },
      "outputs": [],
      "source": [
        "class Produk:\n",
        "  def __init__(self, kode_barang, nama, harga):\n",
        "    self.kode_barang=kode_barang\n",
        "    self.nama=nama\n",
        "    self.harga=harga\n",
        "\n",
        "  def deskripsi(self):\n",
        "    print(f\"kode : {self.kode_barang}\")\n",
        "    print(f\"nama : {self.nama}\")\n",
        "    print(f\"harga: {self.harga}\")"
      ]
    },
    {
      "cell_type": "code",
      "source": [
        "class ProdukMakanan(Produk):\n",
        "  def __init__(self, kode_barang, nama, harga, tanggal_kadaluarsa):\n",
        "    super().__init__(kode_barang, nama, harga)\n",
        "    self.tanggal_kadaluarsa=tanggal_kadaluarsa\n",
        "\n",
        "  def deskripsi(self):\n",
        "    super().deskripsi()\n",
        "    print(\"kadaluarsa sampai:\", self.tanggal_kadaluarsa)\n"
      ],
      "metadata": {
        "id": "S51rM1YvJBFS"
      },
      "execution_count": null,
      "outputs": []
    },
    {
      "cell_type": "code",
      "source": [
        "class ProdukElektronik(Produk):\n",
        "  def __init__(self, kode_barang, nama, harga, garansi):\n",
        "    super().__init__(kode_barang, nama, harga)\n",
        "    self.garansi=garansi\n",
        "\n",
        "  def deskripsi(self):\n",
        "    super().deskripsi()\n",
        "    print(\"garansi sampai:\", self.garansi)"
      ],
      "metadata": {
        "id": "kAtBX8y8JWxr"
      },
      "execution_count": null,
      "outputs": []
    },
    {
      "cell_type": "code",
      "source": [
        "barang1 = ProdukMakanan(936483, \"chitato\", 7000, \"5 maret 2024\")\n",
        "barang2 = ProdukMakanan(628393, \"nabati\", 2000, \"3 januari 2024\")\n",
        "\n",
        "elektronik1 = ProdukElektronik(937849, \"iphone12\", 11000000, \"3 tahun\")\n",
        "elektronik2 = ProdukElektronik(738362, \"asus\", 9000000, \"3 tahun\")\n",
        "\n",
        "print(\"Deskripsi Produk Makanan:\")\n",
        "barang1.deskripsi()\n",
        "print(\"\")\n",
        "print(\"Deskripsi Produk Makanan:\")\n",
        "barang2.deskripsi()\n",
        "print(\"\")\n",
        "print(\"Deskripsi Produk Elektronik:\")\n",
        "elektronik1.deskripsi()\n",
        "print(\"\")\n",
        "print(\"Deskripsi Produk Elektronik:\")\n",
        "elektronik2.deskripsi()"
      ],
      "metadata": {
        "colab": {
          "base_uri": "https://localhost:8080/"
        },
        "id": "Fwvjbc5MJf4l",
        "outputId": "3d94c821-2fea-4906-de31-5b77c792f5a0"
      },
      "execution_count": null,
      "outputs": [
        {
          "output_type": "stream",
          "name": "stdout",
          "text": [
            "Deskripsi Produk Makanan:\n",
            "kode : 936483\n",
            "nama : chitato\n",
            "harga: 7000\n",
            "kadaluarsa sampai: 5 maret 2024\n",
            "\n",
            "Deskripsi Produk Makanan:\n",
            "kode : 628393\n",
            "nama : nabati\n",
            "harga: 2000\n",
            "kadaluarsa sampai: 3 januari 2024\n",
            "\n",
            "Deskripsi Produk Elektronik:\n",
            "kode : 937849\n",
            "nama : iphone12\n",
            "harga: 11000000\n",
            "garansi sampai: 3 tahun\n",
            "\n",
            "Deskripsi Produk Elektronik:\n",
            "kode : 738362\n",
            "nama : asus\n",
            "harga: 9000000\n",
            "garansi sampai: 3 tahun\n"
          ]
        }
      ]
    }
  ]
}
